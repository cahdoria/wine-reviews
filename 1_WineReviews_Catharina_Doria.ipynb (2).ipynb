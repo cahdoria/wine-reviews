{
 "cells": [
  {
   "cell_type": "markdown",
   "id": "cc5f17fa-fbd3-4bfc-b098-b241b5aa18e7",
   "metadata": {},
   "source": [
    "# Wine Reviews Analysis 🍷"
   ]
  },
  {
   "cell_type": "code",
   "execution_count": 131,
   "id": "82e30b47-cf48-4157-a67f-89b538ed865a",
   "metadata": {},
   "outputs": [
    {
     "name": "stdout",
     "output_type": "stream",
     "text": [
      "Requirement already satisfied: emoji in /Users/brennerdoria/opt/anaconda3/lib/python3.8/site-packages (1.6.1)\n",
      "Note: you may need to restart the kernel to use updated packages.\n"
     ]
    }
   ],
   "source": [
    "%pip install emoji --upgrade"
   ]
  },
  {
   "cell_type": "code",
   "execution_count": 132,
   "id": "915e29a6-e932-449d-b553-9fddecac6b05",
   "metadata": {},
   "outputs": [],
   "source": [
    "import emoji # emoji import to not have errors"
   ]
  },
  {
   "cell_type": "markdown",
   "id": "ce1bbf82-3b0d-46a8-9136-b548215f1e6f",
   "metadata": {},
   "source": [
    "## How many wine reviews are included in the dataset? 🧐 "
   ]
  },
  {
   "cell_type": "code",
   "execution_count": 133,
   "id": "86c69ea7-2d22-4eba-ad67-925581d7f786",
   "metadata": {},
   "outputs": [],
   "source": [
    "import json"
   ]
  },
  {
   "cell_type": "code",
   "execution_count": 134,
   "id": "b4ca39d9-ebfc-4302-bf0d-9a2fa431774a",
   "metadata": {},
   "outputs": [],
   "source": [
    "with open('wine.json') as file:\n",
    "    data = json.load (file)"
   ]
  },
  {
   "cell_type": "code",
   "execution_count": 135,
   "id": "04ef0708-7f88-40be-8d1d-fd227eba1b46",
   "metadata": {},
   "outputs": [
    {
     "data": {
      "text/plain": [
       "129971"
      ]
     },
     "execution_count": 135,
     "metadata": {},
     "output_type": "execute_result"
    }
   ],
   "source": [
    "len(data) # len to find the number of wine reviews"
   ]
  },
  {
   "cell_type": "markdown",
   "id": "f9f61639-218e-4088-adbb-09b1e5a5869c",
   "metadata": {},
   "source": [
    "##  2) Add a new `\"length\"` key to each review in the list, containing the number of words in the `\"description\"` value. "
   ]
  },
  {
   "cell_type": "code",
   "execution_count": 136,
   "id": "e1314a43-ff9e-4e11-9789-7a0495ae2bca",
   "metadata": {},
   "outputs": [],
   "source": [
    "#first_review = data[0]\n",
    "#print(first_review) "
   ]
  },
  {
   "cell_type": "code",
   "execution_count": 137,
   "id": "973fde36-1140-4132-b88f-8d9dcecc0220",
   "metadata": {},
   "outputs": [],
   "source": [
    "#first_review.keys() "
   ]
  },
  {
   "cell_type": "code",
   "execution_count": 138,
   "id": "e140a6a3-1238-4fc7-be2b-de6422936519",
   "metadata": {},
   "outputs": [],
   "source": [
    "#print(first_review['description'])"
   ]
  },
  {
   "cell_type": "code",
   "execution_count": 139,
   "id": "1f5a84bd-9455-4f5e-b5e0-0cb1977c2bc7",
   "metadata": {},
   "outputs": [
    {
     "name": "stdout",
     "output_type": "stream",
     "text": [
      "The number of words in this description is: 24\n"
     ]
    }
   ],
   "source": [
    "length = len(data[0]['description'].split())\n",
    "print (\"The number of words in this description is: \" + str(length))"
   ]
  },
  {
   "cell_type": "code",
   "execution_count": 140,
   "id": "51ecd3b8-000c-451c-8601-cdfd84c5af35",
   "metadata": {
    "scrolled": true,
    "tags": []
   },
   "outputs": [],
   "source": [
    "#For loop that gives back the amount of words in each review to check if everything is okay!\n",
    "#for description_length in data:\n",
    "    #length = len(description_length['description'].split())\n",
    "    #print(str(length))"
   ]
  },
  {
   "cell_type": "code",
   "execution_count": 141,
   "id": "f3ad42ea-81e4-4ba2-a7b9-1eb01bdbb986",
   "metadata": {},
   "outputs": [
    {
     "data": {
      "text/plain": [
       "{'points': '87',\n",
       " 'title': 'Quinta dos Avidagos 2011 Avidagos Red (Douro)',\n",
       " 'description': \"This is ripe and fruity, a wine that is smooth while still structured. Firm tannins are filled out with juicy red berry fruits and freshened with acidity. It's  already drinkable, although it will certainly be better from 2016.\",\n",
       " 'taster_name': 'Roger Voss',\n",
       " 'taster_twitter_handle': '@vossroger',\n",
       " 'price': 15,\n",
       " 'designation': 'Avidagos',\n",
       " 'variety': 'Portuguese Red',\n",
       " 'region_1': None,\n",
       " 'region_2': None,\n",
       " 'province': 'Douro',\n",
       " 'country': 'Portugal',\n",
       " 'winery': 'Quinta dos Avidagos',\n",
       " 'length': 38}"
      ]
     },
     "execution_count": 141,
     "metadata": {},
     "output_type": "execute_result"
    }
   ],
   "source": [
    "#here, I called data[1] to check if the new key update had been inserted correctly. \n",
    "for description_length in data:\n",
    "    length = len(description_length['description'].split())\n",
    "    description_length.update({\"length\" : length})\n",
    "data[1] "
   ]
  },
  {
   "cell_type": "markdown",
   "id": "65eb1be1-8cc9-4a1a-80a0-27bb0a80e0e1",
   "metadata": {},
   "source": [
    "### b) What's the length of the last review?"
   ]
  },
  {
   "cell_type": "code",
   "execution_count": 142,
   "id": "89f67f91-1a00-4f45-bd73-5e1c4b8d4a5d",
   "metadata": {},
   "outputs": [
    {
     "name": "stdout",
     "output_type": "stream",
     "text": [
      "27\n"
     ]
    }
   ],
   "source": [
    "length = len(data[-1]['description'].split())\n",
    "print(length)"
   ]
  },
  {
   "cell_type": "markdown",
   "id": "5b713452-b996-4c8a-96ca-551830c4cbe9",
   "metadata": {},
   "source": [
    "## 3) How many different countries have wines reviewed in the dataset? 🌍"
   ]
  },
  {
   "cell_type": "markdown",
   "id": "ad078066-a70b-487a-9f7f-dbd57ea154c2",
   "metadata": {},
   "source": [
    "## 1) All mentions of countries:"
   ]
  },
  {
   "cell_type": "markdown",
   "id": "4596e0f7-a5a1-4348-9cdf-d83d11c9d22c",
   "metadata": {},
   "source": [
    "### i) First Method"
   ]
  },
  {
   "cell_type": "code",
   "execution_count": 143,
   "id": "af33e5c9-35a6-42f1-acb2-a244986265dc",
   "metadata": {
    "scrolled": true,
    "tags": []
   },
   "outputs": [],
   "source": [
    "all_countries = []\n",
    "for review in data:\n",
    "    all_countries.append(review[\"country\"])\n",
    "#all_countries"
   ]
  },
  {
   "cell_type": "code",
   "execution_count": 144,
   "id": "bfd86779-c628-46bf-acf0-fe2d2e9c3525",
   "metadata": {},
   "outputs": [
    {
     "data": {
      "text/plain": [
       "129971"
      ]
     },
     "execution_count": 144,
     "metadata": {},
     "output_type": "execute_result"
    }
   ],
   "source": [
    "len(all_countries)"
   ]
  },
  {
   "cell_type": "markdown",
   "id": "d20b3229-f799-4f52-be0a-8ab144a86453",
   "metadata": {},
   "source": [
    "### ii) Second Method"
   ]
  },
  {
   "cell_type": "code",
   "execution_count": 145,
   "id": "819315af-372e-4e3b-a56a-198722b6cd71",
   "metadata": {
    "scrolled": true,
    "tags": []
   },
   "outputs": [],
   "source": [
    "country_list = [review[\"country\"] for review in data] \n",
    "#country_list"
   ]
  },
  {
   "cell_type": "code",
   "execution_count": 146,
   "id": "fa21957e-28ce-438a-be29-679c4a4ddced",
   "metadata": {},
   "outputs": [
    {
     "data": {
      "text/plain": [
       "129971"
      ]
     },
     "execution_count": 146,
     "metadata": {},
     "output_type": "execute_result"
    }
   ],
   "source": [
    "len(country_list)"
   ]
  },
  {
   "cell_type": "markdown",
   "id": "dcc373ce-c8a3-473c-abaf-1c446b739bd5",
   "metadata": {},
   "source": [
    "## 2) Unique mentions within all countries:"
   ]
  },
  {
   "cell_type": "code",
   "execution_count": 147,
   "id": "037e083f-5248-4073-9f1a-eb2e48d8bc8f",
   "metadata": {},
   "outputs": [
    {
     "name": "stdout",
     "output_type": "stream",
     "text": [
      "44\n"
     ]
    }
   ],
   "source": [
    "unique_countries = []\n",
    "for review in data:\n",
    "    if review[\"country\"] not in unique_countries:\n",
    "        unique_countries.append(review[\"country\"])\n",
    "        \n",
    "print (len(unique_countries))"
   ]
  },
  {
   "cell_type": "code",
   "execution_count": 148,
   "id": "56b27c44-57b4-46a9-81f6-c95d130ba880",
   "metadata": {
    "scrolled": true,
    "tags": []
   },
   "outputs": [
    {
     "name": "stdout",
     "output_type": "stream",
     "text": [
      "{'Turkey', 'Hungary', 'Serbia', 'New Zealand', 'England', 'Austria', 'Slovenia', 'Spain', 'US', 'Luxembourg', 'South Africa', 'Portugal', 'Australia', 'India', 'Macedonia', 'Mexico', None, 'Slovakia', 'Czech Republic', 'Israel', 'Chile', 'Italy', 'Cyprus', 'France', 'Egypt', 'Argentina', 'Peru', 'Canada', 'Germany', 'Georgia', 'Uruguay', 'Bosnia and Herzegovina', 'Switzerland', 'China', 'Morocco', 'Moldova', 'Armenia', 'Ukraine', 'Lebanon', 'Bulgaria', 'Brazil', 'Greece', 'Croatia', 'Romania'}\n",
      "44\n"
     ]
    }
   ],
   "source": [
    "print(set(unique_countries)) # called set to check the content and found there was a None \n",
    "print(len(unique_countries)) # called to check the amount of unique values"
   ]
  },
  {
   "cell_type": "code",
   "execution_count": 149,
   "id": "72053943-92fb-4391-8450-5511661bc9ed",
   "metadata": {},
   "outputs": [
    {
     "name": "stdout",
     "output_type": "stream",
     "text": [
      "43\n"
     ]
    }
   ],
   "source": [
    "unique_countries = []\n",
    "for review in data:\n",
    "    specific_country = review['country']\n",
    "    if specific_country == None:\n",
    "        unique_countries = unique_countries\n",
    "    else:\n",
    "        unique_countries.append(specific_country)\n",
    "        \n",
    "countries_dis = list(set(unique_countries))\n",
    "print (str(len(countries_dis)))"
   ]
  },
  {
   "cell_type": "markdown",
   "id": "0b1eb0e8-7574-4e32-8aaa-cb3e3cb5295d",
   "metadata": {
    "tags": []
   },
   "source": [
    "## 4) Build a dictionary with the following structure: {country: number of wines reviewed coming from that country} 🏗️"
   ]
  },
  {
   "cell_type": "code",
   "execution_count": 150,
   "id": "6e86274c-6ed2-45bd-927f-5296843566a6",
   "metadata": {},
   "outputs": [
    {
     "name": "stdout",
     "output_type": "stream",
     "text": [
      "{'Italy': 19540, 'Portugal': 5691, 'US': 54504, 'Spain': 6645, 'France': 22093, 'Germany': 2165, 'Argentina': 3800, 'Chile': 4472, 'Australia': 2329, 'Austria': 3345, 'South Africa': 1401, 'New Zealand': 1419, 'Israel': 505, 'Hungary': 146, 'Greece': 466, 'Romania': 120, 'Mexico': 70, 'Canada': 257, None: 63, 'Turkey': 90, 'Czech Republic': 12, 'Slovenia': 87, 'Luxembourg': 6, 'Croatia': 73, 'Georgia': 86, 'Uruguay': 109, 'England': 74, 'Lebanon': 35, 'Serbia': 12, 'Brazil': 52, 'Moldova': 59, 'Morocco': 28, 'Peru': 16, 'India': 9, 'Bulgaria': 141, 'Cyprus': 11, 'Armenia': 2, 'Switzerland': 7, 'Bosnia and Herzegovina': 2, 'Ukraine': 14, 'Slovakia': 1, 'Macedonia': 12, 'China': 1, 'Egypt': 1}\n"
     ]
    }
   ],
   "source": [
    "country_list = {}\n",
    "for review in all_countries:\n",
    "    if review not in country_list:\n",
    "        country_list[review] = 1\n",
    "    else:\n",
    "        country_list[review] += 1\n",
    "print(country_list)"
   ]
  },
  {
   "cell_type": "markdown",
   "id": "7d839252-3ff6-462b-9451-75f725927291",
   "metadata": {},
   "source": [
    "## 5) Build a dictionary with the following structure: {country: average points of wines coming from that country} ✨ "
   ]
  },
  {
   "cell_type": "code",
   "execution_count": 151,
   "id": "655aadeb-b28c-4473-9e80-5f693030216e",
   "metadata": {},
   "outputs": [
    {
     "name": "stdout",
     "output_type": "stream",
     "text": [
      "{'Italy': 88.6, 'Portugal': 88.3, 'US': 88.6, 'Spain': 87.3, 'France': 88.8, 'Germany': 89.9, 'Argentina': 86.7, 'Chile': 86.5, 'Australia': 88.6, 'Austria': 90.1, 'South Africa': 88.1, 'New Zealand': 88.3, 'Israel': 88.5, 'Hungary': 89.2, 'Greece': 87.3, 'Romania': 86.4, 'Mexico': 85.3, 'Canada': 89.4, None: 88.6, 'Turkey': 88.1, 'Czech Republic': 87.2, 'Slovenia': 88.1, 'Luxembourg': 88.7, 'Croatia': 87.2, 'Georgia': 87.7, 'Uruguay': 86.8, 'England': 91.6, 'Lebanon': 87.7, 'Serbia': 87.5, 'Brazil': 84.7, 'Moldova': 87.2, 'Morocco': 88.6, 'Peru': 83.6, 'India': 90.2, 'Bulgaria': 87.9, 'Cyprus': 87.2, 'Armenia': 87.5, 'Switzerland': 88.6, 'Bosnia and Herzegovina': 86.5, 'Ukraine': 84.1, 'Slovakia': 87.0, 'Macedonia': 86.8, 'China': 89.0, 'Egypt': 84.0}\n"
     ]
    }
   ],
   "source": [
    "avg_points_country = {}\n",
    "\n",
    "for country in country_list:\n",
    "    tot_points = 0\n",
    "    avg = 0\n",
    "    for review in data:\n",
    "        if review [\"country\"] == country:\n",
    "            tot_points = tot_points + int (review [\"points\"])\n",
    "    avg = round(tot_points/country_list[country],1)\n",
    "    avg_points_country [country] = avg\n",
    "print (avg_points_country)"
   ]
  },
  {
   "cell_type": "markdown",
   "id": "8840e25d-325f-4067-a9a0-8e5ae8079c76",
   "metadata": {},
   "source": [
    "## Question 6) What's the country that produces the wines with the highest average rating? 📊"
   ]
  },
  {
   "cell_type": "code",
   "execution_count": 152,
   "id": "55344fd7-7f1d-4ae8-bed5-42eaef91b069",
   "metadata": {},
   "outputs": [
    {
     "data": {
      "text/plain": [
       "'England'"
      ]
     },
     "execution_count": 152,
     "metadata": {},
     "output_type": "execute_result"
    }
   ],
   "source": [
    "max_key = max(avg_points_country, key=avg_points_country.get)\n",
    "max_key"
   ]
  },
  {
   "cell_type": "markdown",
   "id": "c004e5df-9416-47cb-a7a1-7aa1216089e6",
   "metadata": {},
   "source": [
    "## Question 7) Update each wine's description by adding at the end of each description."
   ]
  },
  {
   "cell_type": "code",
   "execution_count": 153,
   "id": "817603c7-669d-40f3-bead-6436e7c27f0f",
   "metadata": {},
   "outputs": [],
   "source": [
    "for wine in data:\n",
    "    wine_description = wine[\"description\"]\n",
    "    wine_designation = wine[\"designation\"]\n",
    "    wine_country = wine[\"country\"]\n",
    "    wine_points = wine[\"points\"]\n",
    "    wine[\"description\"] = f\"{wine_description} This is a {wine_designation} from {wine_country} that scored {wine_points} points.\""
   ]
  },
  {
   "cell_type": "code",
   "execution_count": 154,
   "id": "c525a90a-cac4-40e5-8785-c9ff2707fa33",
   "metadata": {},
   "outputs": [
    {
     "data": {
      "text/plain": [
       "'Big, rich and off-dry, this is powered by intense spiciness and rounded texture. Lychees dominate the fruit profile, giving an opulent feel to the aftertaste. Drink now. This is a Lieu-dit Harth Cuvée Caroline from France that scored 90 points.'"
      ]
     },
     "execution_count": 154,
     "metadata": {},
     "output_type": "execute_result"
    }
   ],
   "source": [
    "data[-1][\"description\"] # answer to the question \"What is the resulting description of the last review?\"\""
   ]
  },
  {
   "cell_type": "markdown",
   "id": "509a54df-a8ff-44e9-8875-595d4c83bf9a",
   "metadata": {},
   "source": [
    "## Question 8: What's the proportion of wine tasters that have a Twitter account? 🐦"
   ]
  },
  {
   "cell_type": "code",
   "execution_count": 157,
   "id": "42691072-4c5a-48aa-bef0-bf239564a2e3",
   "metadata": {},
   "outputs": [],
   "source": [
    "unique_reviewers = set()\n",
    "have_twitter_account = set()\n",
    "\n",
    "for review in data:\n",
    "    if review['taster_name'] == None:\n",
    "        pass\n",
    "    else:\n",
    "        unique_reviewers.add(review['taster_name'])\n",
    "    if review['taster_twitter_handle'] == None:\n",
    "        pass\n",
    "    else:\n",
    "        have_twitter_account.add(review['taster_twitter_handle'])"
   ]
  },
  {
   "cell_type": "code",
   "execution_count": 158,
   "id": "0a59d020-c3ee-4da7-ae0f-ec8bd425235a",
   "metadata": {},
   "outputs": [
    {
     "data": {
      "text/plain": [
       "0.7894736842105263"
      ]
     },
     "execution_count": 158,
     "metadata": {},
     "output_type": "execute_result"
    }
   ],
   "source": [
    "len(have_twitter_account) / len(unique_reviewers) "
   ]
  },
  {
   "cell_type": "code",
   "execution_count": 159,
   "id": "10faefaf-1960-4126-9859-bbd02624e12e",
   "metadata": {},
   "outputs": [
    {
     "data": {
      "text/plain": [
       "78.94736842105263"
      ]
     },
     "execution_count": 159,
     "metadata": {},
     "output_type": "execute_result"
    }
   ],
   "source": [
    "len(have_twitter_account) * 100 / len(unique_reviewers) "
   ]
  }
 ],
 "metadata": {
  "kernelspec": {
   "display_name": "Python 3",
   "language": "python",
   "name": "python3"
  },
  "language_info": {
   "codemirror_mode": {
    "name": "ipython",
    "version": 3
   },
   "file_extension": ".py",
   "mimetype": "text/x-python",
   "name": "python",
   "nbconvert_exporter": "python",
   "pygments_lexer": "ipython3",
   "version": "3.8.8"
  }
 },
 "nbformat": 4,
 "nbformat_minor": 5
}
